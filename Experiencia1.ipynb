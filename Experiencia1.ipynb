{
 "cells": [
  {
   "cell_type": "code",
   "execution_count": 5,
   "id": "65a81a11-73a2-4ce0-be2d-e918475475d7",
   "metadata": {
    "jupyter": {
     "source_hidden": true
    },
    "tags": []
   },
   "outputs": [
    {
     "data": {
      "application/vnd.jupyter.widget-view+json": {
       "model_id": "4928ab3353a64ca38b33555de76c2461",
       "version_major": 2,
       "version_minor": 0
      },
      "text/plain": [
       "HBox(children=(VBox(children=(Label(value='Objeto'), VBox(children=(Text(value='', placeholder='Type something…"
      ]
     },
     "metadata": {},
     "output_type": "display_data"
    },
    {
     "data": {
      "application/vnd.jupyter.widget-view+json": {
       "model_id": "f0be0c660374452a9c621d7570227864",
       "version_major": 2,
       "version_minor": 0
      },
      "text/plain": [
       "Output()"
      ]
     },
     "metadata": {},
     "output_type": "display_data"
    }
   ],
   "source": [
    "import numpy as np\n",
    "from matplotlib import pyplot as plt\n",
    "import ipywidgets as widgets\n",
    "from ipywidgets import interactive_output\n",
    "from IPython.display import display\n",
    "\n",
    "from ipywidgets import Label\n",
    "\n",
    "nomes = [widgets.Text(\n",
    "    value='',\n",
    "    placeholder='Type something',\n",
    "    description='',\n",
    "    disabled=False\n",
    ")\n",
    "               for i in range(4)]\n",
    "valores = [widgets.BoundedFloatText(\n",
    "    min=0,\n",
    "    max=10000,\n",
    "    step=0.1,\n",
    "    description='',\n",
    "    disabled=False\n",
    ") \n",
    " for i in range(4)]\n",
    "\n",
    "conts = widgets.HBox([ widgets.VBox([Label(value='Objeto'), \n",
    "                                      widgets.VBox(nomes)]), \n",
    "                       widgets.VBox([Label(value='Peso na Terra'), \n",
    "                                     widgets.VBox(valores)])\n",
    "])\n",
    "\n",
    "elems={'arg{}'.format(i) : valores[i] for i in range(4)}        \n",
    "\n",
    "def f(**elems):\n",
    "    x = [v for v in elems.values()]\n",
    "    y = np.multiply(x,3.6)\n",
    "    plt.scatter(x, y)\n",
    "\n",
    "\n",
    "out = widgets.interactive_output(f, elems)\n",
    "display(conts, out)"
   ]
  },
  {
   "cell_type": "code",
   "execution_count": null,
   "id": "ee2eed40-27b9-4ced-8d09-b5cbdc1ed1bf",
   "metadata": {
    "jupyter": {
     "source_hidden": true
    }
   },
   "outputs": [],
   "source": []
  }
 ],
 "metadata": {
  "kernelspec": {
   "display_name": "Python 3 (ipykernel)",
   "language": "python",
   "name": "python3"
  },
  "language_info": {
   "codemirror_mode": {
    "name": "ipython",
    "version": 3
   },
   "file_extension": ".py",
   "mimetype": "text/x-python",
   "name": "python",
   "nbconvert_exporter": "python",
   "pygments_lexer": "ipython3",
   "version": "3.9.9"
  },
  "toc-autonumbering": false,
  "toc-showmarkdowntxt": false,
  "widgets": {
   "application/vnd.jupyter.widget-state+json": {
    "state": {
     "030a0c4b9b594e46ac22a3e05fa136d8": {
      "model_module": "@jupyter-widgets/controls",
      "model_module_version": "1.5.0",
      "model_name": "VBoxModel",
      "state": {
       "children": [
        "IPY_MODEL_b0e29d0aa586485eb84c3d17f6503a1c",
        "IPY_MODEL_90992ca50f6e47c88518c61585ede678"
       ],
       "layout": "IPY_MODEL_fbb1ad90890c4053abbd552f7f24afcf"
      }
     },
     "06c33d231e944731bebd829248379442": {
      "model_module": "@jupyter-widgets/controls",
      "model_module_version": "1.5.0",
      "model_name": "DescriptionStyleModel",
      "state": {
       "description_width": ""
      }
     },
     "083dbfe20912471aa98d8841254da64e": {
      "model_module": "@jupyter-widgets/controls",
      "model_module_version": "1.5.0",
      "model_name": "BoundedFloatTextModel",
      "state": {
       "layout": "IPY_MODEL_f86f4ae980fa4efd863616401de77970",
       "max": 10000,
       "style": "IPY_MODEL_ac7a85c48ae04ed7843aa459e1eca89e",
       "value": 0.9
      }
     },
     "084d6d61520d4f9ebd0c8fd5d691b418": {
      "model_module": "@jupyter-widgets/base",
      "model_module_version": "1.2.0",
      "model_name": "LayoutModel",
      "state": {}
     },
     "0a5df57ce3ad4221bf01d368c15562e1": {
      "model_module": "@jupyter-widgets/controls",
      "model_module_version": "1.5.0",
      "model_name": "BoundedFloatTextModel",
      "state": {
       "layout": "IPY_MODEL_aec1d1ae159c4d79ab8290438178920c",
       "max": 10000,
       "style": "IPY_MODEL_76ab7f6b48b342e5963d67d84eae6fa1"
      }
     },
     "0bda0c1b4eee456594c8b8162d9e712b": {
      "model_module": "@jupyter-widgets/base",
      "model_module_version": "1.2.0",
      "model_name": "LayoutModel",
      "state": {}
     },
     "0c6f83b5084a4e21aa247e4dd787aa6e": {
      "model_module": "@jupyter-widgets/base",
      "model_module_version": "1.2.0",
      "model_name": "LayoutModel",
      "state": {}
     },
     "11853ad1dd9f48a9aa591715b78589c3": {
      "model_module": "@jupyter-widgets/base",
      "model_module_version": "1.2.0",
      "model_name": "LayoutModel",
      "state": {}
     },
     "1279fa716b6945a0b9ac91de3b4e3b07": {
      "model_module": "@jupyter-widgets/controls",
      "model_module_version": "1.5.0",
      "model_name": "DescriptionStyleModel",
      "state": {
       "description_width": ""
      }
     },
     "13625054421948e9a64e9da7366121a4": {
      "model_module": "@jupyter-widgets/base",
      "model_module_version": "1.2.0",
      "model_name": "LayoutModel",
      "state": {}
     },
     "15675d9ff26849118e682bd12be80f28": {
      "model_module": "@jupyter-widgets/base",
      "model_module_version": "1.2.0",
      "model_name": "LayoutModel",
      "state": {}
     },
     "1926ad4e8ba34baeb7473888f5cd390e": {
      "model_module": "@jupyter-widgets/base",
      "model_module_version": "1.2.0",
      "model_name": "LayoutModel",
      "state": {}
     },
     "1a1c16bdedc54c7681f49d51e83fb4e9": {
      "model_module": "@jupyter-widgets/controls",
      "model_module_version": "1.5.0",
      "model_name": "VBoxModel",
      "state": {
       "children": [
        "IPY_MODEL_dd8cae982fc14407a334f44345043e05",
        "IPY_MODEL_9d474261963b43569c8bf2c7521a0776"
       ],
       "layout": "IPY_MODEL_640407689a6f4a58b80c6acd7516cf32"
      }
     },
     "1a8e76922bc64155a031650a9cbb6d45": {
      "model_module": "@jupyter-widgets/controls",
      "model_module_version": "1.5.0",
      "model_name": "BoundedFloatTextModel",
      "state": {
       "layout": "IPY_MODEL_f85a4004fc9544e5b50db8b4b452b699",
       "max": 10000,
       "style": "IPY_MODEL_fba61afd74d24845b0eecb3945afcbc7",
       "value": 8
      }
     },
     "1d5fdb681e2541b093d355322ece3353": {
      "model_module": "@jupyter-widgets/controls",
      "model_module_version": "1.5.0",
      "model_name": "DescriptionStyleModel",
      "state": {
       "description_width": ""
      }
     },
     "1dc0e22c8be5493fa7886478e2c25c84": {
      "model_module": "@jupyter-widgets/base",
      "model_module_version": "1.2.0",
      "model_name": "LayoutModel",
      "state": {}
     },
     "1fb194184bbd4fe8a88edef77aba48c1": {
      "model_module": "@jupyter-widgets/output",
      "model_module_version": "1.0.0",
      "model_name": "OutputModel",
      "state": {
       "layout": "IPY_MODEL_c0ea44f1cfb54f6da76c433fa7e97a28",
       "outputs": [
        {
         "data": {
          "image/png": "iVBORw0KGgoAAAANSUhEUgAAAWoAAAD4CAYAAADFAawfAAAAOXRFWHRTb2Z0d2FyZQBNYXRwbG90bGliIHZlcnNpb24zLjUuMSwgaHR0cHM6Ly9tYXRwbG90bGliLm9yZy/YYfK9AAAACXBIWXMAAAsTAAALEwEAmpwYAAAPM0lEQVR4nO3dYYwc9X3G8efpccDhIgzxtsUmxSChi0LV5OgKNQTRAKVnSAOO0hemTRVSqmvaJErUylUspLbqm0ay1DZVo1aWS5uoqUniGIsiyMUtIJRSO1ljwxnDJeCQxuc0XiAX4vQExv31xc7Ze9dd7yw3M/u37/uRVp6dmd197n+rx3MzszuOCAEA0vVTgw4AADg9ihoAEkdRA0DiKGoASBxFDQCJO6eMJ121alWsXbu2jKcGgLPS3r17X4qIWqdlpRT12rVr1Wg0ynhqADgr2f5ut2U9d33YHrW9v+32qu1PFpoQANBVzy3qiJiW9E5Jsj0kaUbS/eXGAgDM6/dg4s2SXoiIrpvoAIBi9VvUGyRtKyMIAKCz3EVt+1xJt0v6cpflE7YbthvNZrOofACw7PVz1setkp6MiB90WhgRWyRtkaR6vc43PQFYNnbum9HmyWkdmZ3T6pUj2jg+qvVjawp7/n6K+k6x2wMAFti5b0abdkxp7vgJSdLM7Jw27ZiSpMLKOteuD9srJN0iaUchrwoAZ4nNk9MnS3re3PET2jw5Xdhr5NqijoifSHpLYa8KAGeJI7Nzfc1/M/iuDwBYgtUrR/qa/2ZQ1ACwBBvHRzUyPLRg3sjwkDaOjxb2GqV81wcALBfzBwxTOesDANDB+rE1hRbzYuz6AIDEUdQAkDiKGgASR1EDQOIoagBIHEUNAImjqAEgcRQ1ACSOogaAxFHUAJA4ihoAEkdRA0DiKGoASBxFDQCJo6gBIHEUNQAkLu9VyFfa3m77OdvP2n5X2cEAAC15r/DyGUlfjYjfsH2upAtKzAQAaNOzqG1fJOkGSXdJUkS8Lun1cmMBAObl2fVxhaSmpH+0vc/2VtsrSs4FAMjkKepzJF0j6e8iYkzSTyR9avFKtidsN2w3ms1mwTEBYPnKU9SHJR2OiD3Z/e1qFfcCEbElIuoRUa/VakVmBIBlrWdRR8R/S/qe7dFs1s2SDpaaCgBwUt6zPj4u6QvZGR+HJH24vEgAgHa5ijoi9kuqlxsFANAJn0wEgMRR1ACQOIoaABJHUQNA4ihqAEgcRQ0AiaOoASBxFDUAJI6iBoDEUdQAkDiKGgASR1EDQOIoagBIHEUNAImjqAEgcRQ1ACSOogaAxFHUAJA4ihoAEkdRA0Dicl3c1vaLkn4s6YSkNyKCC90CQEVyFXXmxoh4qbQkAICO2PUBAInLW9Qh6Wu299qe6LSC7QnbDduNZrNZXEIAWObyFvX1EXGNpFslfdT2DYtXiIgtEVGPiHqtVis0JAAsZ7mKOiJmsn+PSrpf0rVlhgIAnNKzqG2vsH3h/LSkX5N0oOxgAICWPGd9/Kyk+23Pr/8vEfHVUlMBAE7qWdQRcUjSOyrIAgDogNPzACBxFDUAJI6iBoDEUdQAkDiKGgASR1EDQOIoagBIHEUNAImjqAEgcRQ1ACSOogaAxFHUAJA4ihoAEkdRA0DiKGoASBxFDQCJo6gBIHEUNQAkjqIGgMRR1ACQuNxFbXvI9j7bD5YZCACwUD9b1J+Q9GxZQQAAneUqatuXSXqvpK3lxgEALJZ3i/qvJf2xpP/ttoLtCdsN241ms1lENgCAchS17V+XdDQi9p5uvYjYEhH1iKjXarXCAgLAcpdni/rdkm63/aKk+yTdZPufS00FADipZ1FHxKaIuCwi1kraIOmRiPhg6ckAAJI4jxoAkndOPytHxGOSHislCQCgI7aoASBxFDUAJI6iBoDEUdQAkDiKGgASR1EDQOIoagBIHEUNAImjqAEgcRQ1ACSOogaAxFHUAJA4ihoAEtfXt+cBqdq5b0abJ6d1ZHZOq1eOaOP4qNaPrRl0LKAQFDXOeDv3zWjTjinNHT8hSZqZndOmHVOSRFnjrMCuD5zxNk9OnyzpeXPHT2jz5PSAEgHFoqhxxjsyO9fXfOBMQ1HjjLd65Uhf84EzDUWNM97G8VGNDA8tmDcyPKSN46MDSgQUi4OJOOPNHzDkrA+crXoWte3zJT0u6bxs/e0R8adlBwP6sX5sDcWMs1aeLerXJN0UEcdsD0v6uu2HI2J3ydkAAMpR1BERko5ld4ezW5QZCgBwSq6DibaHbO+XdFTSrojY02GdCdsN241ms1lwTABYvnIVdUSciIh3SrpM0rW2f6HDOlsioh4R9VqtVnBMAFi++jo9LyJmJT0qaV0paQAA/0/PorZds70ymx6RdIuk50rOBQDI5Dnr41JJn7M9pFaxfykiHiw3FgBgXp6zPp6WNFZBFgBAB3yEHAASR1EDQOIoagBIHEUNAImjqAEgcRQ1ACSOogaAxFHUAJA4ihoAEkdRA0DiKGoASBxFDQCJo6gBIHEUNQAkjqIGgMRR1ACQOIoaABJHUQNA4ihqAEgcRQ0AietZ1LbfavtR2wdtP2P7E1UEAwC09LwKuaQ3JP1RRDxp+0JJe23vioiDJWcDACjHFnVEfD8insymfyzpWUlryg4GAGjpax+17bWSxiTt6bBswnbDdqPZbBYUDwCQu6ht/7Skr0j6ZES8unh5RGyJiHpE1Gu1WpEZAWBZy1XUtofVKukvRMSOciMBANrlOevDkv5B0rMR8ZflRwIAtMuzRf1uSb8t6Sbb+7PbbSXnAgBkep6eFxFfl+QKsgAAOuCTiQCQOIoaABJHUQNA4ihqAEgcRQ0AiaOoASBxFDUAJI6iBoDEUdQAkDiKGgASR1EDQOIoagBIHEUNAImjqAEgcRQ1ACSOogaAxFHUAJA4ihoAEkdRA0DiKGoASFzPorZ9r+2jtg9UEQgAsFCeLep/krSu5BwAgC56FnVEPC7plQqyAAA6KGwfte0J2w3bjWazWdTTAsCyV1hRR8SWiKhHRL1WqxX1tACw7HHWBwAkjqIGgMTlOT1vm6T/lDRq+7Dtu8uPBQCYd06vFSLiziqCDNrOfTPaPDmtI7NzWr1yRBvHR7V+bM2gYwFA76JeDnbum9GmHVOaO35CkjQzO6dNO6YkibIGMHDso5a0eXL6ZEnPmzt+QpsnpweUCABOoaglHZmd62s+AFSJopa0euVIX/MBoEoUtaSN46MaGR5aMG9keEgbx0cHlAgATuFgok4dMOSsDwApoqgz68fWUMwAksSuDwBIHEUNAImjqAEgcRQ1ACSOogaAxFHUAJA4ihoAEkdRA0DiKGoASBxFDQCJo6gBIHEUNQAkjqIGgMTl+vY82+skfUbSkKStEfHpooNwcVkA6KxnUdsekvRZSbdIOizpm7YfiIiDRYXg4rIA0F2eXR/XSno+Ig5FxOuS7pN0R5EhuLgsAHSXp6jXSPpe2/3D2bwFbE/YbthuNJvNvkJwcVkA6K6wg4kRsSUi6hFRr9VqfT2Wi8sCQHd5inpG0lvb7l+WzSsMF5cFgO7ynPXxTUlX2b5CrYLeIOk3iwzBxWUBoLueRR0Rb9j+mKRJtU7Puzcinik6CBeXBYDOcp1HHREPSXqo5CwAgA74ZCIAJI6iBoDEUdQAkDiKGgAS54go/kntpqTvvsmHr5L0UoFxika+pSHf0pBvaVLOd3lEdPy0YClFvRS2GxFRH3SObsi3NORbGvItTer5umHXBwAkjqIGgMSlWNRbBh2gB/ItDfmWhnxLk3q+jpLbRw0AWCjFLWoAQBuKGgASV1lR215ne9r287Y/1WH5eba/mC3fY3tt27JN2fxp2+MDyveHtg/aftr2v9u+vG3ZCdv7s9sDA8p3l+1mW47fbVv2Idvfzm4fGlC+v2rL9i3bs23Lqhi/e20ftX2gy3Lb/pss/9O2r2lbVsX49cr3W1muKdtP2H5H27IXs/n7bTcGlO89tn/U9nv8k7Zlp31vVJRvY1u2A9l77pJsWenjt2QRUfpNra9HfUHSlZLOlfSUpLcvWucPJP19Nr1B0hez6bdn658n6YrseYYGkO9GSRdk078/ny+7fyyB8btL0t92eOwlkg5l/16cTV9cdb5F639cra/LrWT8ste4QdI1kg50WX6bpIclWdIvS9pT1fjlzHfd/OtKunU+X3b/RUmrBjx+75H04FLfG2XlW7Tu+yQ9UuX4LfVW1RZ1ngvk3iHpc9n0dkk323Y2/76IeC0iviPp+ez5Ks0XEY9GxP9kd3erdaWbqizlAsPjknZFxCsR8UNJuyStG3C+OyVtKzjDaUXE45JeOc0qd0j6fLTslrTS9qWqZvx65ouIJ7LXl6p//+UZv25Kvzi21He+yt9/S1VVUee5QO7JdSLiDUk/kvSWnI+tIl+7u9Xa+pp3fnZh39221xecrZ98H8j+PN5ue/7yaUmNX7bL6ApJj7TNLnv88uj2M1Qxfv1a/P4LSV+zvdf2xIAySdK7bD9l+2HbV2fzkho/2xeo9R/tV9pmpzJ+XeW6cABOsf1BSXVJv9I2+/KImLF9paRHbE9FxAsVR/tXSdsi4jXbv6fWXyc3VZwhjw2StkfEibZ5KYzfGcH2jWoV9fVts6/Pxu9nJO2y/Vy2hVmlJ9X6PR6zfZuknZKuqjhDHu+T9B8R0b71ncL4nVZVW9R5LpB7ch3b50i6SNLLOR9bRT7Z/lVJ90i6PSJem58fETPZv4ckPSZprOp8EfFyW6atkn4p72OryNdmgxb92VnB+OXR7WeoYvxysf2Lav1u74iIl+fnt43fUUn3q/hdgz1FxKsRcSybfkjSsO1VSmj8Mqd7/w1s/HqqYke4Wlvuh9T6k3f+gMLVi9b5qBYeTPxSNn21Fh5MPKTiDybmyTem1kGRqxbNv1jSedn0KknfVsEHS3Lmu7Rt+v2SdmfTl0j6Tpbz4mz6kqrzZeu9Ta0DN65y/Npea626Hwx7rxYeTPxGVeOXM9/Pq3V85rpF81dIurBt+glJ6waQ7+fmf69qFd1/ZWOZ671Rdr5s+UVq7cdeMYjxW9LPVtkLtY6qfysru3uyeX+u1tapJJ0v6cvZm/Ebkq5se+w92eOmJd06oHz/JukHkvZntwey+ddJmsregFOS7h5Qvr+Q9EyW41FJb2t77O9k4/q8pA8PIl92/88kfXrR46oav22Svi/puFr7Se+W9BFJH8mWW9Jns/xTkuoVj1+vfFsl/bDt/dfI5l+Zjd1T2e//ngHl+1jb+2+32v5D6fTeqDpfts5dap2Y0P64SsZvqTc+Qg4AieOTiQCQOIoaABJHUQNA4ihqAEgcRQ0AiaOoASBxFDUAJO7/AD+ot4V7ENltAAAAAElFTkSuQmCC\n",
          "text/plain": "<Figure size 432x288 with 1 Axes>"
         },
         "metadata": {
          "needs_background": "light"
         },
         "output_type": "display_data"
        }
       ]
      }
     },
     "20d284d608c1443e9db4a509cff5b4f2": {
      "model_module": "@jupyter-widgets/base",
      "model_module_version": "1.2.0",
      "model_name": "LayoutModel",
      "state": {}
     },
     "239866cc7d68430abd3449055b7559a0": {
      "model_module": "@jupyter-widgets/base",
      "model_module_version": "1.2.0",
      "model_name": "LayoutModel",
      "state": {}
     },
     "26b5907bb9424fc9bd0286495d9e17ba": {
      "model_module": "@jupyter-widgets/controls",
      "model_module_version": "1.5.0",
      "model_name": "VBoxModel",
      "state": {
       "children": [
        "IPY_MODEL_9bd71e6e4228428baf482a1544cbc915",
        "IPY_MODEL_6afde754af37483bb68c702edf40d35d",
        "IPY_MODEL_d25d9c1b91954558ae9ca69fe63e3d76",
        "IPY_MODEL_ed4bea87d1254924817acba6edc8edd5"
       ],
       "layout": "IPY_MODEL_7810d1b53ac1452da4a30b95e96a844e"
      }
     },
     "2813901a9d304e0d9d0dbee5231329f6": {
      "model_module": "@jupyter-widgets/base",
      "model_module_version": "1.2.0",
      "model_name": "LayoutModel",
      "state": {}
     },
     "2ca2c09b4fe4411aaab73717b47a1f09": {
      "model_module": "@jupyter-widgets/base",
      "model_module_version": "1.2.0",
      "model_name": "LayoutModel",
      "state": {}
     },
     "2db894cb71bb4900ab11d3be09d18d11": {
      "model_module": "@jupyter-widgets/controls",
      "model_module_version": "1.5.0",
      "model_name": "VBoxModel",
      "state": {
       "children": [
        "IPY_MODEL_6ce48cc6f0904bc384810518b91dabbe",
        "IPY_MODEL_df638a23910646cfab1ea2758eb8f19d",
        "IPY_MODEL_97cba4ea5fda4cab9c25a33641d6d6e4",
        "IPY_MODEL_47cea75c35e548ed934cae6da7b4db2a"
       ],
       "layout": "IPY_MODEL_15675d9ff26849118e682bd12be80f28"
      }
     },
     "30de49c52bce41a7bfb2074251c1d618": {
      "model_module": "@jupyter-widgets/controls",
      "model_module_version": "1.5.0",
      "model_name": "DescriptionStyleModel",
      "state": {
       "description_width": ""
      }
     },
     "356b30adc9514964a14ba9c5b9cc46d5": {
      "model_module": "@jupyter-widgets/controls",
      "model_module_version": "1.5.0",
      "model_name": "BoundedFloatTextModel",
      "state": {
       "layout": "IPY_MODEL_f989885cc91149ae90c0b95d35b3b17c",
       "max": 10000,
       "style": "IPY_MODEL_8f7cb265124045349cc1e91c7e70b8e0",
       "value": 9
      }
     },
     "35ec0ef42d404c2b977c0fe00122e987": {
      "model_module": "@jupyter-widgets/base",
      "model_module_version": "1.2.0",
      "model_name": "LayoutModel",
      "state": {}
     },
     "37891eb06ac34d459601b12f341b710d": {
      "model_module": "@jupyter-widgets/base",
      "model_module_version": "1.2.0",
      "model_name": "LayoutModel",
      "state": {}
     },
     "3be0567de4ff425989131708bc6b149f": {
      "model_module": "@jupyter-widgets/base",
      "model_module_version": "1.2.0",
      "model_name": "LayoutModel",
      "state": {}
     },
     "3d945f60f4bd4c8481d4356614e94111": {
      "model_module": "@jupyter-widgets/controls",
      "model_module_version": "1.5.0",
      "model_name": "DescriptionStyleModel",
      "state": {
       "description_width": ""
      }
     },
     "3f3cccfb75624746baa351540b26964b": {
      "model_module": "@jupyter-widgets/controls",
      "model_module_version": "1.5.0",
      "model_name": "DescriptionStyleModel",
      "state": {
       "description_width": ""
      }
     },
     "447e93b4100a489c8ce4bd4534dc7a68": {
      "model_module": "@jupyter-widgets/controls",
      "model_module_version": "1.5.0",
      "model_name": "BoundedFloatTextModel",
      "state": {
       "layout": "IPY_MODEL_1926ad4e8ba34baeb7473888f5cd390e",
       "max": 10000,
       "style": "IPY_MODEL_3f3cccfb75624746baa351540b26964b",
       "value": 686
      }
     },
     "473b24d39ce846d7ae7b9a80e6a47c09": {
      "model_module": "@jupyter-widgets/controls",
      "model_module_version": "1.5.0",
      "model_name": "BoundedFloatTextModel",
      "state": {
       "layout": "IPY_MODEL_e4c6b477d73a4f67ad2545be746e4957",
       "max": 10000,
       "style": "IPY_MODEL_816e3da8b1a74482949e84241d033676",
       "value": 0.2
      }
     },
     "47cea75c35e548ed934cae6da7b4db2a": {
      "model_module": "@jupyter-widgets/controls",
      "model_module_version": "1.5.0",
      "model_name": "TextModel",
      "state": {
       "layout": "IPY_MODEL_2813901a9d304e0d9d0dbee5231329f6",
       "placeholder": "Type something",
       "style": "IPY_MODEL_72760f44bbad4271a0e4455fd272afcd"
      }
     },
     "4925a52641d648bbbb3e2022fb51432a": {
      "model_module": "@jupyter-widgets/base",
      "model_module_version": "1.2.0",
      "model_name": "LayoutModel",
      "state": {}
     },
     "4928ab3353a64ca38b33555de76c2461": {
      "model_module": "@jupyter-widgets/controls",
      "model_module_version": "1.5.0",
      "model_name": "HBoxModel",
      "state": {
       "children": [
        "IPY_MODEL_5b5663e4dc804471901a8baf08683a18",
        "IPY_MODEL_d50965f99ed447ae8093b6033b27d058"
       ],
       "layout": "IPY_MODEL_8dc77efd5ef8460ba586862b87282fce"
      }
     },
     "4d5ba900f4f847cd91db8988a8f850b4": {
      "model_module": "@jupyter-widgets/base",
      "model_module_version": "1.2.0",
      "model_name": "LayoutModel",
      "state": {}
     },
     "4eec903191514eb6bf3f981ceac0cba5": {
      "model_module": "@jupyter-widgets/controls",
      "model_module_version": "1.5.0",
      "model_name": "DescriptionStyleModel",
      "state": {
       "description_width": ""
      }
     },
     "51a086cebc864002badd51ce96315c8e": {
      "model_module": "@jupyter-widgets/controls",
      "model_module_version": "1.5.0",
      "model_name": "LabelModel",
      "state": {
       "layout": "IPY_MODEL_d7964837a22a425ea03cf47255429e1d",
       "style": "IPY_MODEL_30de49c52bce41a7bfb2074251c1d618",
       "value": "Objeto"
      }
     },
     "5457fd373b014da98e395e3f6b5c9896": {
      "model_module": "@jupyter-widgets/controls",
      "model_module_version": "1.5.0",
      "model_name": "DescriptionStyleModel",
      "state": {
       "description_width": ""
      }
     },
     "565e7c8a0d6048e89369c153c4735cb3": {
      "model_module": "@jupyter-widgets/controls",
      "model_module_version": "1.5.0",
      "model_name": "BoundedFloatTextModel",
      "state": {
       "layout": "IPY_MODEL_fc34ee80df67482fbd3f81480de525f9",
       "max": 10000,
       "style": "IPY_MODEL_f20b38ab5c5d41819c56519807896717",
       "value": 10000
      }
     },
     "57de89bd359c4f1cad87fe5ad004fc21": {
      "model_module": "@jupyter-widgets/controls",
      "model_module_version": "1.5.0",
      "model_name": "DescriptionStyleModel",
      "state": {
       "description_width": ""
      }
     },
     "5b5663e4dc804471901a8baf08683a18": {
      "model_module": "@jupyter-widgets/controls",
      "model_module_version": "1.5.0",
      "model_name": "VBoxModel",
      "state": {
       "children": [
        "IPY_MODEL_9511351d4bda4f989fcb1db09f93b076",
        "IPY_MODEL_2db894cb71bb4900ab11d3be09d18d11"
       ],
       "layout": "IPY_MODEL_5cccd7fda5ea4955905a3449ef376b02"
      }
     },
     "5bda5ab8488f4676ad647bf49d962a55": {
      "model_module": "@jupyter-widgets/base",
      "model_module_version": "1.2.0",
      "model_name": "LayoutModel",
      "state": {}
     },
     "5cb69b2a7301410db82ccaf3f6e6e98e": {
      "model_module": "@jupyter-widgets/base",
      "model_module_version": "1.2.0",
      "model_name": "LayoutModel",
      "state": {}
     },
     "5cccd7fda5ea4955905a3449ef376b02": {
      "model_module": "@jupyter-widgets/base",
      "model_module_version": "1.2.0",
      "model_name": "LayoutModel",
      "state": {}
     },
     "5d52ac6fc10c4124982b7dd285c28898": {
      "model_module": "@jupyter-widgets/base",
      "model_module_version": "1.2.0",
      "model_name": "LayoutModel",
      "state": {}
     },
     "5ef75017fde3434d98c379d973ef5079": {
      "model_module": "@jupyter-widgets/controls",
      "model_module_version": "1.5.0",
      "model_name": "VBoxModel",
      "state": {
       "children": [
        "IPY_MODEL_0a5df57ce3ad4221bf01d368c15562e1",
        "IPY_MODEL_696b572faa184e27a3b8819273525526",
        "IPY_MODEL_473b24d39ce846d7ae7b9a80e6a47c09",
        "IPY_MODEL_083dbfe20912471aa98d8841254da64e"
       ],
       "layout": "IPY_MODEL_71d2bbfab8b6493293541690d4daa542"
      }
     },
     "608c4d4b1f0741639fd61e58d030eef0": {
      "model_module": "@jupyter-widgets/base",
      "model_module_version": "1.2.0",
      "model_name": "LayoutModel",
      "state": {}
     },
     "619a045364114371b3fe0aaa8a4213ce": {
      "model_module": "@jupyter-widgets/controls",
      "model_module_version": "1.5.0",
      "model_name": "VBoxModel",
      "state": {
       "children": [
        "IPY_MODEL_ef114e570ed0477b8d373708c42e67bd",
        "IPY_MODEL_b21d0c4fe12a493abcb3a76924bfa7b3",
        "IPY_MODEL_1a8e76922bc64155a031650a9cbb6d45",
        "IPY_MODEL_356b30adc9514964a14ba9c5b9cc46d5"
       ],
       "layout": "IPY_MODEL_608c4d4b1f0741639fd61e58d030eef0"
      }
     },
     "61f79f0b4ed340e0a2dcf25fc39b2b68": {
      "model_module": "@jupyter-widgets/controls",
      "model_module_version": "1.5.0",
      "model_name": "HBoxModel",
      "state": {
       "children": [
        "IPY_MODEL_1a1c16bdedc54c7681f49d51e83fb4e9",
        "IPY_MODEL_030a0c4b9b594e46ac22a3e05fa136d8"
       ],
       "layout": "IPY_MODEL_13625054421948e9a64e9da7366121a4"
      }
     },
     "63296ab72e164bf7ba1d4238598dded8": {
      "model_module": "@jupyter-widgets/controls",
      "model_module_version": "1.5.0",
      "model_name": "LabelModel",
      "state": {
       "layout": "IPY_MODEL_d730691ad6784b869bf986538968a2bf",
       "style": "IPY_MODEL_1d5fdb681e2541b093d355322ece3353",
       "value": "Objeto"
      }
     },
     "640407689a6f4a58b80c6acd7516cf32": {
      "model_module": "@jupyter-widgets/base",
      "model_module_version": "1.2.0",
      "model_name": "LayoutModel",
      "state": {}
     },
     "66042178720d4984b887d890e1421dca": {
      "model_module": "@jupyter-widgets/controls",
      "model_module_version": "1.5.0",
      "model_name": "LabelModel",
      "state": {
       "layout": "IPY_MODEL_a09c61e3e8b94680aa75919c37f8958c",
       "style": "IPY_MODEL_a5fc6cc1821b4b25b6fe27fe094bb180",
       "value": "Peso na Terra"
      }
     },
     "6888898efec040c88eb2b7fe276ab487": {
      "model_module": "@jupyter-widgets/output",
      "model_module_version": "1.0.0",
      "model_name": "OutputModel",
      "state": {
       "layout": "IPY_MODEL_695045f7fdad4ce7a7530b10223bf8df",
       "outputs": [
        {
         "data": {
          "image/png": "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\n",
          "text/plain": "<Figure size 432x288 with 1 Axes>"
         },
         "metadata": {
          "needs_background": "light"
         },
         "output_type": "display_data"
        }
       ]
      }
     },
     "695045f7fdad4ce7a7530b10223bf8df": {
      "model_module": "@jupyter-widgets/base",
      "model_module_version": "1.2.0",
      "model_name": "LayoutModel",
      "state": {}
     },
     "696b572faa184e27a3b8819273525526": {
      "model_module": "@jupyter-widgets/controls",
      "model_module_version": "1.5.0",
      "model_name": "BoundedFloatTextModel",
      "state": {
       "layout": "IPY_MODEL_850d1ec8b0514805a15e9f8ee99d2b51",
       "max": 10000,
       "style": "IPY_MODEL_d5307f39d0de48a48ad83d5fbf2e20c3",
       "value": 1.9
      }
     },
     "6afde754af37483bb68c702edf40d35d": {
      "model_module": "@jupyter-widgets/controls",
      "model_module_version": "1.5.0",
      "model_name": "TextModel",
      "state": {
       "layout": "IPY_MODEL_d07693c4724a43f9bed0d725d81123f9",
       "placeholder": "Type something",
       "style": "IPY_MODEL_971adca0aa06473db9894194d1b763e9"
      }
     },
     "6b701c7d763245a88178a7f89f27f4f2": {
      "model_module": "@jupyter-widgets/controls",
      "model_module_version": "1.5.0",
      "model_name": "HBoxModel",
      "state": {
       "children": [
        "IPY_MODEL_b1147f917e704e22be0a7b897bf19e04",
        "IPY_MODEL_eec423c3784147918d68c5ada8b7d178"
       ],
       "layout": "IPY_MODEL_d66784eb9b5e46f7859bf867f63e2fe9"
      }
     },
     "6ce48cc6f0904bc384810518b91dabbe": {
      "model_module": "@jupyter-widgets/controls",
      "model_module_version": "1.5.0",
      "model_name": "TextModel",
      "state": {
       "layout": "IPY_MODEL_d9fc2cd7a15948ea91964c9c0f95feba",
       "placeholder": "Type something",
       "style": "IPY_MODEL_6e62e4bad1af4c66ae4ea6c03f33e03e"
      }
     },
     "6d1f2ba63462419aa83953131c9be5de": {
      "model_module": "@jupyter-widgets/controls",
      "model_module_version": "1.5.0",
      "model_name": "BoundedFloatTextModel",
      "state": {
       "layout": "IPY_MODEL_8616e31ef5734416a02e28f5ef8ffdf1",
       "max": 10000,
       "style": "IPY_MODEL_b62fda19bb064f42b06895bf9bb911a0",
       "value": 123
      }
     },
     "6ddb361fa3e64f24ab032f51d0292278": {
      "model_module": "@jupyter-widgets/controls",
      "model_module_version": "1.5.0",
      "model_name": "TextModel",
      "state": {
       "layout": "IPY_MODEL_e69cbbc917d14223b927b0ee83ac2954",
       "placeholder": "Type something",
       "style": "IPY_MODEL_a181e2ac435149fa9955eacffd8b88eb",
       "value": "fnbbdfhjd"
      }
     },
     "6e62e4bad1af4c66ae4ea6c03f33e03e": {
      "model_module": "@jupyter-widgets/controls",
      "model_module_version": "1.5.0",
      "model_name": "DescriptionStyleModel",
      "state": {
       "description_width": ""
      }
     },
     "6fbd13c0339042649ccda733cdd67399": {
      "model_module": "@jupyter-widgets/base",
      "model_module_version": "1.2.0",
      "model_name": "LayoutModel",
      "state": {}
     },
     "7162d27305094d96a308618e485af021": {
      "model_module": "@jupyter-widgets/controls",
      "model_module_version": "1.5.0",
      "model_name": "DescriptionStyleModel",
      "state": {
       "description_width": ""
      }
     },
     "71b9424499e74fde87f57df1e4095e2d": {
      "model_module": "@jupyter-widgets/controls",
      "model_module_version": "1.5.0",
      "model_name": "DescriptionStyleModel",
      "state": {
       "description_width": ""
      }
     },
     "71d2bbfab8b6493293541690d4daa542": {
      "model_module": "@jupyter-widgets/base",
      "model_module_version": "1.2.0",
      "model_name": "LayoutModel",
      "state": {}
     },
     "72760f44bbad4271a0e4455fd272afcd": {
      "model_module": "@jupyter-widgets/controls",
      "model_module_version": "1.5.0",
      "model_name": "DescriptionStyleModel",
      "state": {
       "description_width": ""
      }
     },
     "75a6169ba33545db972a99f9ab39dfc3": {
      "model_module": "@jupyter-widgets/controls",
      "model_module_version": "1.5.0",
      "model_name": "BoundedFloatTextModel",
      "state": {
       "layout": "IPY_MODEL_5cb69b2a7301410db82ccaf3f6e6e98e",
       "max": 10000,
       "style": "IPY_MODEL_f4ec33b3ba4e4fa4891ed9a97476262d"
      }
     },
     "76ab7f6b48b342e5963d67d84eae6fa1": {
      "model_module": "@jupyter-widgets/controls",
      "model_module_version": "1.5.0",
      "model_name": "DescriptionStyleModel",
      "state": {
       "description_width": ""
      }
     },
     "7810d1b53ac1452da4a30b95e96a844e": {
      "model_module": "@jupyter-widgets/base",
      "model_module_version": "1.2.0",
      "model_name": "LayoutModel",
      "state": {}
     },
     "7af059d3556c41b19f0c61db6660078d": {
      "model_module": "@jupyter-widgets/controls",
      "model_module_version": "1.5.0",
      "model_name": "DescriptionStyleModel",
      "state": {
       "description_width": ""
      }
     },
     "816e3da8b1a74482949e84241d033676": {
      "model_module": "@jupyter-widgets/controls",
      "model_module_version": "1.5.0",
      "model_name": "DescriptionStyleModel",
      "state": {
       "description_width": ""
      }
     },
     "8322d6e27b9942179aa790e6b2019e98": {
      "model_module": "@jupyter-widgets/controls",
      "model_module_version": "1.5.0",
      "model_name": "DescriptionStyleModel",
      "state": {
       "description_width": ""
      }
     },
     "850d1ec8b0514805a15e9f8ee99d2b51": {
      "model_module": "@jupyter-widgets/base",
      "model_module_version": "1.2.0",
      "model_name": "LayoutModel",
      "state": {}
     },
     "85be8c4747e74e59a4f7f38aa65e9c4e": {
      "model_module": "@jupyter-widgets/base",
      "model_module_version": "1.2.0",
      "model_name": "LayoutModel",
      "state": {}
     },
     "8616e31ef5734416a02e28f5ef8ffdf1": {
      "model_module": "@jupyter-widgets/base",
      "model_module_version": "1.2.0",
      "model_name": "LayoutModel",
      "state": {}
     },
     "861d3bc451c442bda6268c1cc5d30ef0": {
      "model_module": "@jupyter-widgets/controls",
      "model_module_version": "1.5.0",
      "model_name": "DescriptionStyleModel",
      "state": {
       "description_width": ""
      }
     },
     "86c9e2756d454d9abe24767f79b1dc98": {
      "model_module": "@jupyter-widgets/controls",
      "model_module_version": "1.5.0",
      "model_name": "DescriptionStyleModel",
      "state": {
       "description_width": ""
      }
     },
     "88b60a9e0269428cbc68223a5be6ff0f": {
      "model_module": "@jupyter-widgets/base",
      "model_module_version": "1.2.0",
      "model_name": "LayoutModel",
      "state": {}
     },
     "8ba4107215f54832879cd8920c072795": {
      "model_module": "@jupyter-widgets/base",
      "model_module_version": "1.2.0",
      "model_name": "LayoutModel",
      "state": {}
     },
     "8dc77efd5ef8460ba586862b87282fce": {
      "model_module": "@jupyter-widgets/base",
      "model_module_version": "1.2.0",
      "model_name": "LayoutModel",
      "state": {}
     },
     "8dc94f3ac5d84e589262b041320b0088": {
      "model_module": "@jupyter-widgets/base",
      "model_module_version": "1.2.0",
      "model_name": "LayoutModel",
      "state": {}
     },
     "8f7cb265124045349cc1e91c7e70b8e0": {
      "model_module": "@jupyter-widgets/controls",
      "model_module_version": "1.5.0",
      "model_name": "DescriptionStyleModel",
      "state": {
       "description_width": ""
      }
     },
     "90992ca50f6e47c88518c61585ede678": {
      "model_module": "@jupyter-widgets/controls",
      "model_module_version": "1.5.0",
      "model_name": "VBoxModel",
      "state": {
       "children": [
        "IPY_MODEL_447e93b4100a489c8ce4bd4534dc7a68",
        "IPY_MODEL_565e7c8a0d6048e89369c153c4735cb3",
        "IPY_MODEL_6d1f2ba63462419aa83953131c9be5de",
        "IPY_MODEL_ac717a5f01a447f8be911ea3181c0d79"
       ],
       "layout": "IPY_MODEL_bca1d4600b5e46fcaed5b81d71ed137d"
      }
     },
     "9490d47d8d7f4102a659aac7d8539ca9": {
      "model_module": "@jupyter-widgets/base",
      "model_module_version": "1.2.0",
      "model_name": "LayoutModel",
      "state": {}
     },
     "9511351d4bda4f989fcb1db09f93b076": {
      "model_module": "@jupyter-widgets/controls",
      "model_module_version": "1.5.0",
      "model_name": "LabelModel",
      "state": {
       "layout": "IPY_MODEL_3be0567de4ff425989131708bc6b149f",
       "style": "IPY_MODEL_57de89bd359c4f1cad87fe5ad004fc21",
       "value": "Objeto"
      }
     },
     "956e5092cd7e4833ac8f82fc7d5581bd": {
      "model_module": "@jupyter-widgets/controls",
      "model_module_version": "1.5.0",
      "model_name": "HBoxModel",
      "state": {
       "children": [
        "IPY_MODEL_aad26be0f7e74aeab13af7716e40b395",
        "IPY_MODEL_ff16ecfc28504caebee870312fd606f2"
       ],
       "layout": "IPY_MODEL_35ec0ef42d404c2b977c0fe00122e987"
      }
     },
     "9581456746884967a707f7301810c017": {
      "model_module": "@jupyter-widgets/base",
      "model_module_version": "1.2.0",
      "model_name": "LayoutModel",
      "state": {}
     },
     "971adca0aa06473db9894194d1b763e9": {
      "model_module": "@jupyter-widgets/controls",
      "model_module_version": "1.5.0",
      "model_name": "DescriptionStyleModel",
      "state": {
       "description_width": ""
      }
     },
     "97540330e40e4de1a8239b5e44104728": {
      "model_module": "@jupyter-widgets/controls",
      "model_module_version": "1.5.0",
      "model_name": "BoundedFloatTextModel",
      "state": {
       "layout": "IPY_MODEL_b4ed4380af9f4aa09e075228972c0af6",
       "max": 10000,
       "style": "IPY_MODEL_e1bae5ea087d41f786d86dc3972979a2"
      }
     },
     "97cba4ea5fda4cab9c25a33641d6d6e4": {
      "model_module": "@jupyter-widgets/controls",
      "model_module_version": "1.5.0",
      "model_name": "TextModel",
      "state": {
       "layout": "IPY_MODEL_1dc0e22c8be5493fa7886478e2c25c84",
       "placeholder": "Type something",
       "style": "IPY_MODEL_c03d9866bfa34e408b958abfb723785c"
      }
     },
     "9821f685c2574a02b0a5b6b6b19c7522": {
      "model_module": "@jupyter-widgets/controls",
      "model_module_version": "1.5.0",
      "model_name": "TextModel",
      "state": {
       "layout": "IPY_MODEL_0bda0c1b4eee456594c8b8162d9e712b",
       "placeholder": "Type something",
       "style": "IPY_MODEL_d85d7f6bfaf04db38854b5e6858d6358"
      }
     },
     "99f51f87cbc14ba29c703a73ca487507": {
      "model_module": "@jupyter-widgets/controls",
      "model_module_version": "1.5.0",
      "model_name": "DescriptionStyleModel",
      "state": {
       "description_width": ""
      }
     },
     "9bd71e6e4228428baf482a1544cbc915": {
      "model_module": "@jupyter-widgets/controls",
      "model_module_version": "1.5.0",
      "model_name": "TextModel",
      "state": {
       "layout": "IPY_MODEL_37891eb06ac34d459601b12f341b710d",
       "placeholder": "Type something",
       "style": "IPY_MODEL_c7806973fc4d493e8f8ebe88e47ec506"
      }
     },
     "9bd86b356aa74ee086f9492ad17d8fc8": {
      "model_module": "@jupyter-widgets/controls",
      "model_module_version": "1.5.0",
      "model_name": "LabelModel",
      "state": {
       "layout": "IPY_MODEL_20d284d608c1443e9db4a509cff5b4f2",
       "style": "IPY_MODEL_86c9e2756d454d9abe24767f79b1dc98",
       "value": "Peso na Terra"
      }
     },
     "9c3e0ba4a44f4a02bd0d020f2bc62443": {
      "model_module": "@jupyter-widgets/controls",
      "model_module_version": "1.5.0",
      "model_name": "DescriptionStyleModel",
      "state": {
       "description_width": ""
      }
     },
     "9d474261963b43569c8bf2c7521a0776": {
      "model_module": "@jupyter-widgets/controls",
      "model_module_version": "1.5.0",
      "model_name": "VBoxModel",
      "state": {
       "children": [
        "IPY_MODEL_b72fa1f3ecd243ae89f61ab48f4b4550",
        "IPY_MODEL_c55ea7b4aea64e91988885dfdfa061c7",
        "IPY_MODEL_f372eb93a82e4e5f951d5f860ce376ff",
        "IPY_MODEL_9821f685c2574a02b0a5b6b6b19c7522"
       ],
       "layout": "IPY_MODEL_9490d47d8d7f4102a659aac7d8539ca9"
      }
     },
     "9e823bd039fd4a028bcb7e67b1b09fa1": {
      "model_module": "@jupyter-widgets/controls",
      "model_module_version": "1.5.0",
      "model_name": "DescriptionStyleModel",
      "state": {
       "description_width": ""
      }
     },
     "a09c61e3e8b94680aa75919c37f8958c": {
      "model_module": "@jupyter-widgets/base",
      "model_module_version": "1.2.0",
      "model_name": "LayoutModel",
      "state": {}
     },
     "a181e2ac435149fa9955eacffd8b88eb": {
      "model_module": "@jupyter-widgets/controls",
      "model_module_version": "1.5.0",
      "model_name": "DescriptionStyleModel",
      "state": {
       "description_width": ""
      }
     },
     "a44ac11ce20748af8240e97ae368956f": {
      "model_module": "@jupyter-widgets/controls",
      "model_module_version": "1.5.0",
      "model_name": "BoundedFloatTextModel",
      "state": {
       "layout": "IPY_MODEL_6fbd13c0339042649ccda733cdd67399",
       "max": 10000,
       "style": "IPY_MODEL_1279fa716b6945a0b9ac91de3b4e3b07"
      }
     },
     "a5cc2d00950e4bba9f401cc6b2cca327": {
      "model_module": "@jupyter-widgets/base",
      "model_module_version": "1.2.0",
      "model_name": "LayoutModel",
      "state": {}
     },
     "a5fc6cc1821b4b25b6fe27fe094bb180": {
      "model_module": "@jupyter-widgets/controls",
      "model_module_version": "1.5.0",
      "model_name": "DescriptionStyleModel",
      "state": {
       "description_width": ""
      }
     },
     "aad26be0f7e74aeab13af7716e40b395": {
      "model_module": "@jupyter-widgets/controls",
      "model_module_version": "1.5.0",
      "model_name": "VBoxModel",
      "state": {
       "children": [
        "IPY_MODEL_63296ab72e164bf7ba1d4238598dded8",
        "IPY_MODEL_26b5907bb9424fc9bd0286495d9e17ba"
       ],
       "layout": "IPY_MODEL_5bda5ab8488f4676ad647bf49d962a55"
      }
     },
     "ac717a5f01a447f8be911ea3181c0d79": {
      "model_module": "@jupyter-widgets/controls",
      "model_module_version": "1.5.0",
      "model_name": "BoundedFloatTextModel",
      "state": {
       "layout": "IPY_MODEL_cdcb808739124cf5b4616e28d510882e",
       "max": 10000,
       "style": "IPY_MODEL_b75a0e777f8b4ea7b740fc365cae544e",
       "value": 5767
      }
     },
     "ac7a85c48ae04ed7843aa459e1eca89e": {
      "model_module": "@jupyter-widgets/controls",
      "model_module_version": "1.5.0",
      "model_name": "DescriptionStyleModel",
      "state": {
       "description_width": ""
      }
     },
     "aec1d1ae159c4d79ab8290438178920c": {
      "model_module": "@jupyter-widgets/base",
      "model_module_version": "1.2.0",
      "model_name": "LayoutModel",
      "state": {}
     },
     "afb51e1c59da4da39900f2695a9edbb8": {
      "model_module": "@jupyter-widgets/output",
      "model_module_version": "1.0.0",
      "model_name": "OutputModel",
      "state": {
       "layout": "IPY_MODEL_88b60a9e0269428cbc68223a5be6ff0f",
       "outputs": [
        {
         "data": {
          "image/png": "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\n",
          "text/plain": "<Figure size 432x288 with 1 Axes>"
         },
         "metadata": {
          "needs_background": "light"
         },
         "output_type": "display_data"
        }
       ]
      }
     },
     "b0e29d0aa586485eb84c3d17f6503a1c": {
      "model_module": "@jupyter-widgets/controls",
      "model_module_version": "1.5.0",
      "model_name": "LabelModel",
      "state": {
       "layout": "IPY_MODEL_bd38e8b12c214473947e8d421028fc4f",
       "style": "IPY_MODEL_9c3e0ba4a44f4a02bd0d020f2bc62443",
       "value": "Peso na Terra"
      }
     },
     "b1147f917e704e22be0a7b897bf19e04": {
      "model_module": "@jupyter-widgets/controls",
      "model_module_version": "1.5.0",
      "model_name": "VBoxModel",
      "state": {
       "children": [
        "IPY_MODEL_51a086cebc864002badd51ce96315c8e",
        "IPY_MODEL_fa24a69e48c64955941ca9a6f65e33ba"
       ],
       "layout": "IPY_MODEL_2ca2c09b4fe4411aaab73717b47a1f09"
      }
     },
     "b21d0c4fe12a493abcb3a76924bfa7b3": {
      "model_module": "@jupyter-widgets/controls",
      "model_module_version": "1.5.0",
      "model_name": "BoundedFloatTextModel",
      "state": {
       "layout": "IPY_MODEL_cb00db04f0b64809a43c4dd399cfd750",
       "max": 10000,
       "style": "IPY_MODEL_71b9424499e74fde87f57df1e4095e2d",
       "value": 7.6
      }
     },
     "b223d5531b64487a8ea115f70f40a224": {
      "model_module": "@jupyter-widgets/base",
      "model_module_version": "1.2.0",
      "model_name": "LayoutModel",
      "state": {}
     },
     "b4ed4380af9f4aa09e075228972c0af6": {
      "model_module": "@jupyter-widgets/base",
      "model_module_version": "1.2.0",
      "model_name": "LayoutModel",
      "state": {}
     },
     "b62fda19bb064f42b06895bf9bb911a0": {
      "model_module": "@jupyter-widgets/controls",
      "model_module_version": "1.5.0",
      "model_name": "DescriptionStyleModel",
      "state": {
       "description_width": ""
      }
     },
     "b721f748b6bd4138bcf70f7f9d23eff9": {
      "model_module": "@jupyter-widgets/controls",
      "model_module_version": "1.5.0",
      "model_name": "DescriptionStyleModel",
      "state": {
       "description_width": ""
      }
     },
     "b72fa1f3ecd243ae89f61ab48f4b4550": {
      "model_module": "@jupyter-widgets/controls",
      "model_module_version": "1.5.0",
      "model_name": "TextModel",
      "state": {
       "layout": "IPY_MODEL_5d52ac6fc10c4124982b7dd285c28898",
       "placeholder": "Type something",
       "style": "IPY_MODEL_8322d6e27b9942179aa790e6b2019e98"
      }
     },
     "b75a0e777f8b4ea7b740fc365cae544e": {
      "model_module": "@jupyter-widgets/controls",
      "model_module_version": "1.5.0",
      "model_name": "DescriptionStyleModel",
      "state": {
       "description_width": ""
      }
     },
     "bca1d4600b5e46fcaed5b81d71ed137d": {
      "model_module": "@jupyter-widgets/base",
      "model_module_version": "1.2.0",
      "model_name": "LayoutModel",
      "state": {}
     },
     "bd38e8b12c214473947e8d421028fc4f": {
      "model_module": "@jupyter-widgets/base",
      "model_module_version": "1.2.0",
      "model_name": "LayoutModel",
      "state": {}
     },
     "c03d9866bfa34e408b958abfb723785c": {
      "model_module": "@jupyter-widgets/controls",
      "model_module_version": "1.5.0",
      "model_name": "DescriptionStyleModel",
      "state": {
       "description_width": ""
      }
     },
     "c0ea44f1cfb54f6da76c433fa7e97a28": {
      "model_module": "@jupyter-widgets/base",
      "model_module_version": "1.2.0",
      "model_name": "LayoutModel",
      "state": {}
     },
     "c55ea7b4aea64e91988885dfdfa061c7": {
      "model_module": "@jupyter-widgets/controls",
      "model_module_version": "1.5.0",
      "model_name": "TextModel",
      "state": {
       "layout": "IPY_MODEL_084d6d61520d4f9ebd0c8fd5d691b418",
       "placeholder": "Type something",
       "style": "IPY_MODEL_7af059d3556c41b19f0c61db6660078d",
       "value": "scdmfgndsfnms"
      }
     },
     "c7806973fc4d493e8f8ebe88e47ec506": {
      "model_module": "@jupyter-widgets/controls",
      "model_module_version": "1.5.0",
      "model_name": "DescriptionStyleModel",
      "state": {
       "description_width": ""
      }
     },
     "cb00db04f0b64809a43c4dd399cfd750": {
      "model_module": "@jupyter-widgets/base",
      "model_module_version": "1.2.0",
      "model_name": "LayoutModel",
      "state": {}
     },
     "cc97375e858f4c2fa455fd6ee6a25b7a": {
      "model_module": "@jupyter-widgets/base",
      "model_module_version": "1.2.0",
      "model_name": "LayoutModel",
      "state": {}
     },
     "cdcb808739124cf5b4616e28d510882e": {
      "model_module": "@jupyter-widgets/base",
      "model_module_version": "1.2.0",
      "model_name": "LayoutModel",
      "state": {}
     },
     "d07693c4724a43f9bed0d725d81123f9": {
      "model_module": "@jupyter-widgets/base",
      "model_module_version": "1.2.0",
      "model_name": "LayoutModel",
      "state": {}
     },
     "d119dafa7f4342c9a36f824a9fcc929d": {
      "model_module": "@jupyter-widgets/controls",
      "model_module_version": "1.5.0",
      "model_name": "BoundedFloatTextModel",
      "state": {
       "layout": "IPY_MODEL_b223d5531b64487a8ea115f70f40a224",
       "max": 10000,
       "style": "IPY_MODEL_7162d27305094d96a308618e485af021"
      }
     },
     "d1d6fa10b27f434e9c62c3565bbdbee7": {
      "model_module": "@jupyter-widgets/base",
      "model_module_version": "1.2.0",
      "model_name": "LayoutModel",
      "state": {}
     },
     "d25d9c1b91954558ae9ca69fe63e3d76": {
      "model_module": "@jupyter-widgets/controls",
      "model_module_version": "1.5.0",
      "model_name": "TextModel",
      "state": {
       "layout": "IPY_MODEL_f24641746bcc47d88464335aab395a6d",
       "placeholder": "Type something",
       "style": "IPY_MODEL_3d945f60f4bd4c8481d4356614e94111"
      }
     },
     "d4994961499141fba2615037570ffb8f": {
      "model_module": "@jupyter-widgets/controls",
      "model_module_version": "1.5.0",
      "model_name": "LabelModel",
      "state": {
       "layout": "IPY_MODEL_11853ad1dd9f48a9aa591715b78589c3",
       "style": "IPY_MODEL_b721f748b6bd4138bcf70f7f9d23eff9",
       "value": "Peso na Terra"
      }
     },
     "d50965f99ed447ae8093b6033b27d058": {
      "model_module": "@jupyter-widgets/controls",
      "model_module_version": "1.5.0",
      "model_name": "VBoxModel",
      "state": {
       "children": [
        "IPY_MODEL_66042178720d4984b887d890e1421dca",
        "IPY_MODEL_f62a4431e9cf495d83e062edd049edd3"
       ],
       "layout": "IPY_MODEL_239866cc7d68430abd3449055b7559a0"
      }
     },
     "d5307f39d0de48a48ad83d5fbf2e20c3": {
      "model_module": "@jupyter-widgets/controls",
      "model_module_version": "1.5.0",
      "model_name": "DescriptionStyleModel",
      "state": {
       "description_width": ""
      }
     },
     "d5ddf5e8afb141b89ed15d6994a88b55": {
      "model_module": "@jupyter-widgets/base",
      "model_module_version": "1.2.0",
      "model_name": "LayoutModel",
      "state": {}
     },
     "d66784eb9b5e46f7859bf867f63e2fe9": {
      "model_module": "@jupyter-widgets/base",
      "model_module_version": "1.2.0",
      "model_name": "LayoutModel",
      "state": {}
     },
     "d730691ad6784b869bf986538968a2bf": {
      "model_module": "@jupyter-widgets/base",
      "model_module_version": "1.2.0",
      "model_name": "LayoutModel",
      "state": {}
     },
     "d7964837a22a425ea03cf47255429e1d": {
      "model_module": "@jupyter-widgets/base",
      "model_module_version": "1.2.0",
      "model_name": "LayoutModel",
      "state": {}
     },
     "d85d7f6bfaf04db38854b5e6858d6358": {
      "model_module": "@jupyter-widgets/controls",
      "model_module_version": "1.5.0",
      "model_name": "DescriptionStyleModel",
      "state": {
       "description_width": ""
      }
     },
     "d9fc2cd7a15948ea91964c9c0f95feba": {
      "model_module": "@jupyter-widgets/base",
      "model_module_version": "1.2.0",
      "model_name": "LayoutModel",
      "state": {}
     },
     "db3c51182fab401b8a714c04483bb158": {
      "model_module": "@jupyter-widgets/base",
      "model_module_version": "1.2.0",
      "model_name": "LayoutModel",
      "state": {}
     },
     "dd8cae982fc14407a334f44345043e05": {
      "model_module": "@jupyter-widgets/controls",
      "model_module_version": "1.5.0",
      "model_name": "LabelModel",
      "state": {
       "layout": "IPY_MODEL_d5ddf5e8afb141b89ed15d6994a88b55",
       "style": "IPY_MODEL_f285a6064f804e4ebdc7ec3552d82f05",
       "value": "Objeto"
      }
     },
     "df638a23910646cfab1ea2758eb8f19d": {
      "model_module": "@jupyter-widgets/controls",
      "model_module_version": "1.5.0",
      "model_name": "TextModel",
      "state": {
       "layout": "IPY_MODEL_cc97375e858f4c2fa455fd6ee6a25b7a",
       "placeholder": "Type something",
       "style": "IPY_MODEL_99f51f87cbc14ba29c703a73ca487507"
      }
     },
     "e1bae5ea087d41f786d86dc3972979a2": {
      "model_module": "@jupyter-widgets/controls",
      "model_module_version": "1.5.0",
      "model_name": "DescriptionStyleModel",
      "state": {
       "description_width": ""
      }
     },
     "e4c6b477d73a4f67ad2545be746e4957": {
      "model_module": "@jupyter-widgets/base",
      "model_module_version": "1.2.0",
      "model_name": "LayoutModel",
      "state": {}
     },
     "e54292eb4a6f4ef8aa0916fd5956c797": {
      "model_module": "@jupyter-widgets/controls",
      "model_module_version": "1.5.0",
      "model_name": "TextModel",
      "state": {
       "layout": "IPY_MODEL_a5cc2d00950e4bba9f401cc6b2cca327",
       "placeholder": "Type something",
       "style": "IPY_MODEL_06c33d231e944731bebd829248379442",
       "value": "dnbbdfb"
      }
     },
     "e69cbbc917d14223b927b0ee83ac2954": {
      "model_module": "@jupyter-widgets/base",
      "model_module_version": "1.2.0",
      "model_name": "LayoutModel",
      "state": {}
     },
     "eca82f0e727049748408fdb873850dcf": {
      "model_module": "@jupyter-widgets/base",
      "model_module_version": "1.2.0",
      "model_name": "LayoutModel",
      "state": {}
     },
     "ed4bea87d1254924817acba6edc8edd5": {
      "model_module": "@jupyter-widgets/controls",
      "model_module_version": "1.5.0",
      "model_name": "TextModel",
      "state": {
       "layout": "IPY_MODEL_8dc94f3ac5d84e589262b041320b0088",
       "placeholder": "Type something",
       "style": "IPY_MODEL_f85ed0bf6d484d518ff98313b1112f53"
      }
     },
     "ee2c17dbf9734be688c0b24264e14b10": {
      "model_module": "@jupyter-widgets/controls",
      "model_module_version": "1.5.0",
      "model_name": "TextModel",
      "state": {
       "layout": "IPY_MODEL_d1d6fa10b27f434e9c62c3565bbdbee7",
       "placeholder": "Type something",
       "style": "IPY_MODEL_9e823bd039fd4a028bcb7e67b1b09fa1",
       "value": "djkndmsndmnsf"
      }
     },
     "eec423c3784147918d68c5ada8b7d178": {
      "model_module": "@jupyter-widgets/controls",
      "model_module_version": "1.5.0",
      "model_name": "VBoxModel",
      "state": {
       "children": [
        "IPY_MODEL_9bd86b356aa74ee086f9492ad17d8fc8",
        "IPY_MODEL_619a045364114371b3fe0aaa8a4213ce"
       ],
       "layout": "IPY_MODEL_85be8c4747e74e59a4f7f38aa65e9c4e"
      }
     },
     "ef114e570ed0477b8d373708c42e67bd": {
      "model_module": "@jupyter-widgets/controls",
      "model_module_version": "1.5.0",
      "model_name": "BoundedFloatTextModel",
      "state": {
       "layout": "IPY_MODEL_8ba4107215f54832879cd8920c072795",
       "max": 10000,
       "style": "IPY_MODEL_4eec903191514eb6bf3f981ceac0cba5"
      }
     },
     "f0be0c660374452a9c621d7570227864": {
      "model_module": "@jupyter-widgets/output",
      "model_module_version": "1.0.0",
      "model_name": "OutputModel",
      "state": {
       "layout": "IPY_MODEL_0c6f83b5084a4e21aa247e4dd787aa6e",
       "outputs": [
        {
         "data": {
          "image/png": "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\n",
          "text/plain": "<Figure size 432x288 with 1 Axes>"
         },
         "metadata": {
          "needs_background": "light"
         },
         "output_type": "display_data"
        }
       ]
      }
     },
     "f20b38ab5c5d41819c56519807896717": {
      "model_module": "@jupyter-widgets/controls",
      "model_module_version": "1.5.0",
      "model_name": "DescriptionStyleModel",
      "state": {
       "description_width": ""
      }
     },
     "f24641746bcc47d88464335aab395a6d": {
      "model_module": "@jupyter-widgets/base",
      "model_module_version": "1.2.0",
      "model_name": "LayoutModel",
      "state": {}
     },
     "f285a6064f804e4ebdc7ec3552d82f05": {
      "model_module": "@jupyter-widgets/controls",
      "model_module_version": "1.5.0",
      "model_name": "DescriptionStyleModel",
      "state": {
       "description_width": ""
      }
     },
     "f372eb93a82e4e5f951d5f860ce376ff": {
      "model_module": "@jupyter-widgets/controls",
      "model_module_version": "1.5.0",
      "model_name": "TextModel",
      "state": {
       "layout": "IPY_MODEL_db3c51182fab401b8a714c04483bb158",
       "placeholder": "Type something",
       "style": "IPY_MODEL_5457fd373b014da98e395e3f6b5c9896"
      }
     },
     "f4ec33b3ba4e4fa4891ed9a97476262d": {
      "model_module": "@jupyter-widgets/controls",
      "model_module_version": "1.5.0",
      "model_name": "DescriptionStyleModel",
      "state": {
       "description_width": ""
      }
     },
     "f62a4431e9cf495d83e062edd049edd3": {
      "model_module": "@jupyter-widgets/controls",
      "model_module_version": "1.5.0",
      "model_name": "VBoxModel",
      "state": {
       "children": [
        "IPY_MODEL_a44ac11ce20748af8240e97ae368956f",
        "IPY_MODEL_97540330e40e4de1a8239b5e44104728",
        "IPY_MODEL_d119dafa7f4342c9a36f824a9fcc929d",
        "IPY_MODEL_75a6169ba33545db972a99f9ab39dfc3"
       ],
       "layout": "IPY_MODEL_4d5ba900f4f847cd91db8988a8f850b4"
      }
     },
     "f85a4004fc9544e5b50db8b4b452b699": {
      "model_module": "@jupyter-widgets/base",
      "model_module_version": "1.2.0",
      "model_name": "LayoutModel",
      "state": {}
     },
     "f85ed0bf6d484d518ff98313b1112f53": {
      "model_module": "@jupyter-widgets/controls",
      "model_module_version": "1.5.0",
      "model_name": "DescriptionStyleModel",
      "state": {
       "description_width": ""
      }
     },
     "f86f4ae980fa4efd863616401de77970": {
      "model_module": "@jupyter-widgets/base",
      "model_module_version": "1.2.0",
      "model_name": "LayoutModel",
      "state": {}
     },
     "f989885cc91149ae90c0b95d35b3b17c": {
      "model_module": "@jupyter-widgets/base",
      "model_module_version": "1.2.0",
      "model_name": "LayoutModel",
      "state": {}
     },
     "f9a1276554114b1190a79f46dfc8cbf4": {
      "model_module": "@jupyter-widgets/controls",
      "model_module_version": "1.5.0",
      "model_name": "TextModel",
      "state": {
       "layout": "IPY_MODEL_9581456746884967a707f7301810c017",
       "placeholder": "Type something",
       "style": "IPY_MODEL_861d3bc451c442bda6268c1cc5d30ef0",
       "value": "nbfjdbf"
      }
     },
     "fa24a69e48c64955941ca9a6f65e33ba": {
      "model_module": "@jupyter-widgets/controls",
      "model_module_version": "1.5.0",
      "model_name": "VBoxModel",
      "state": {
       "children": [
        "IPY_MODEL_e54292eb4a6f4ef8aa0916fd5956c797",
        "IPY_MODEL_ee2c17dbf9734be688c0b24264e14b10",
        "IPY_MODEL_f9a1276554114b1190a79f46dfc8cbf4",
        "IPY_MODEL_6ddb361fa3e64f24ab032f51d0292278"
       ],
       "layout": "IPY_MODEL_4925a52641d648bbbb3e2022fb51432a"
      }
     },
     "fba61afd74d24845b0eecb3945afcbc7": {
      "model_module": "@jupyter-widgets/controls",
      "model_module_version": "1.5.0",
      "model_name": "DescriptionStyleModel",
      "state": {
       "description_width": ""
      }
     },
     "fbb1ad90890c4053abbd552f7f24afcf": {
      "model_module": "@jupyter-widgets/base",
      "model_module_version": "1.2.0",
      "model_name": "LayoutModel",
      "state": {}
     },
     "fc34ee80df67482fbd3f81480de525f9": {
      "model_module": "@jupyter-widgets/base",
      "model_module_version": "1.2.0",
      "model_name": "LayoutModel",
      "state": {}
     },
     "ff16ecfc28504caebee870312fd606f2": {
      "model_module": "@jupyter-widgets/controls",
      "model_module_version": "1.5.0",
      "model_name": "VBoxModel",
      "state": {
       "children": [
        "IPY_MODEL_d4994961499141fba2615037570ffb8f",
        "IPY_MODEL_5ef75017fde3434d98c379d973ef5079"
       ],
       "layout": "IPY_MODEL_eca82f0e727049748408fdb873850dcf"
      }
     }
    },
    "version_major": 2,
    "version_minor": 0
   }
  }
 },
 "nbformat": 4,
 "nbformat_minor": 5
}
